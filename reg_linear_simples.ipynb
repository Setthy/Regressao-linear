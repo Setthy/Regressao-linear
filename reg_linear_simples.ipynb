{
 "cells": [
  {
   "cell_type": "code",
   "execution_count": 1,
   "id": "df2b7eac-2b15-4bb2-9d1c-72d08610016f",
   "metadata": {},
   "outputs": [],
   "source": [
    "# Regressão Linear Simples."
   ]
  },
  {
   "cell_type": "code",
   "execution_count": 18,
   "id": "55815a23-fc29-49b4-b0c6-de2ebd015980",
   "metadata": {},
   "outputs": [],
   "source": [
    "# Importando as bibliotecas, sklearn para criar modelo de regressão e yellowbrick para visualização de residuais.\n",
    "\n",
    "import pandas as pd\n",
    "import numpy as np\n",
    "import matplotlib.pyplot as plt\n",
    "from sklearn.linear_model import LinearRegression\n",
    "\n",
    "# Warning\n",
    "\n",
    "from yellowbrick.regressor import ResidualsPlot"
   ]
  },
  {
   "cell_type": "code",
   "execution_count": 4,
   "id": "e225cbf3-7ed8-486d-9e70-cc6c1e57ddd5",
   "metadata": {},
   "outputs": [
    {
     "data": {
      "text/plain": [
       "(50, 3)"
      ]
     },
     "execution_count": 4,
     "metadata": {},
     "output_type": "execute_result"
    }
   ],
   "source": [
    "# Carregamento da base de dados e exclusão da primeira coluna:\n",
    "\n",
    "base = pd.read_csv('cars.csv')\n",
    "base.shape"
   ]
  },
  {
   "cell_type": "code",
   "execution_count": 5,
   "id": "03cf2bf0-21b7-4e29-bf5a-ad2d2b43b01a",
   "metadata": {},
   "outputs": [
    {
     "data": {
      "text/html": [
       "<div>\n",
       "<style scoped>\n",
       "    .dataframe tbody tr th:only-of-type {\n",
       "        vertical-align: middle;\n",
       "    }\n",
       "\n",
       "    .dataframe tbody tr th {\n",
       "        vertical-align: top;\n",
       "    }\n",
       "\n",
       "    .dataframe thead th {\n",
       "        text-align: right;\n",
       "    }\n",
       "</style>\n",
       "<table border=\"1\" class=\"dataframe\">\n",
       "  <thead>\n",
       "    <tr style=\"text-align: right;\">\n",
       "      <th></th>\n",
       "      <th>Unnamed: 0</th>\n",
       "      <th>speed</th>\n",
       "      <th>dist</th>\n",
       "    </tr>\n",
       "  </thead>\n",
       "  <tbody>\n",
       "    <tr>\n",
       "      <th>0</th>\n",
       "      <td>1</td>\n",
       "      <td>4</td>\n",
       "      <td>2</td>\n",
       "    </tr>\n",
       "    <tr>\n",
       "      <th>1</th>\n",
       "      <td>2</td>\n",
       "      <td>4</td>\n",
       "      <td>10</td>\n",
       "    </tr>\n",
       "    <tr>\n",
       "      <th>2</th>\n",
       "      <td>3</td>\n",
       "      <td>7</td>\n",
       "      <td>4</td>\n",
       "    </tr>\n",
       "    <tr>\n",
       "      <th>3</th>\n",
       "      <td>4</td>\n",
       "      <td>7</td>\n",
       "      <td>22</td>\n",
       "    </tr>\n",
       "    <tr>\n",
       "      <th>4</th>\n",
       "      <td>5</td>\n",
       "      <td>8</td>\n",
       "      <td>16</td>\n",
       "    </tr>\n",
       "  </tbody>\n",
       "</table>\n",
       "</div>"
      ],
      "text/plain": [
       "   Unnamed: 0  speed  dist\n",
       "0           1      4     2\n",
       "1           2      4    10\n",
       "2           3      7     4\n",
       "3           4      7    22\n",
       "4           5      8    16"
      ]
     },
     "execution_count": 5,
     "metadata": {},
     "output_type": "execute_result"
    }
   ],
   "source": [
    "base.head()"
   ]
  },
  {
   "cell_type": "code",
   "execution_count": 6,
   "id": "a8c3a66f-52e4-451c-b176-54357b36539d",
   "metadata": {},
   "outputs": [
    {
     "data": {
      "text/html": [
       "<div>\n",
       "<style scoped>\n",
       "    .dataframe tbody tr th:only-of-type {\n",
       "        vertical-align: middle;\n",
       "    }\n",
       "\n",
       "    .dataframe tbody tr th {\n",
       "        vertical-align: top;\n",
       "    }\n",
       "\n",
       "    .dataframe thead th {\n",
       "        text-align: right;\n",
       "    }\n",
       "</style>\n",
       "<table border=\"1\" class=\"dataframe\">\n",
       "  <thead>\n",
       "    <tr style=\"text-align: right;\">\n",
       "      <th></th>\n",
       "      <th>speed</th>\n",
       "      <th>dist</th>\n",
       "    </tr>\n",
       "  </thead>\n",
       "  <tbody>\n",
       "    <tr>\n",
       "      <th>0</th>\n",
       "      <td>4</td>\n",
       "      <td>2</td>\n",
       "    </tr>\n",
       "    <tr>\n",
       "      <th>1</th>\n",
       "      <td>4</td>\n",
       "      <td>10</td>\n",
       "    </tr>\n",
       "    <tr>\n",
       "      <th>2</th>\n",
       "      <td>7</td>\n",
       "      <td>4</td>\n",
       "    </tr>\n",
       "    <tr>\n",
       "      <th>3</th>\n",
       "      <td>7</td>\n",
       "      <td>22</td>\n",
       "    </tr>\n",
       "    <tr>\n",
       "      <th>4</th>\n",
       "      <td>8</td>\n",
       "      <td>16</td>\n",
       "    </tr>\n",
       "  </tbody>\n",
       "</table>\n",
       "</div>"
      ],
      "text/plain": [
       "   speed  dist\n",
       "0      4     2\n",
       "1      4    10\n",
       "2      7     4\n",
       "3      7    22\n",
       "4      8    16"
      ]
     },
     "execution_count": 6,
     "metadata": {},
     "output_type": "execute_result"
    }
   ],
   "source": [
    "base = base.drop(['Unnamed: 0'], axis = 1)\n",
    "base.head()"
   ]
  },
  {
   "cell_type": "code",
   "execution_count": 21,
   "id": "3c40dd3a-a641-4501-a774-9a13f8a6a1d7",
   "metadata": {},
   "outputs": [
    {
     "data": {
      "text/plain": [
       "array([  2,  10,   4,  22,  16,  10,  18,  26,  34,  17,  28,  14,  20,\n",
       "        24,  28,  26,  34,  34,  46,  26,  36,  60,  80,  20,  26,  54,\n",
       "        32,  40,  32,  40,  50,  42,  56,  76,  84,  36,  46,  68,  32,\n",
       "        48,  52,  56,  64,  66,  54,  70,  92,  93, 120,  85], dtype=int64)"
      ]
     },
     "execution_count": 21,
     "metadata": {},
     "output_type": "execute_result"
    }
   ],
   "source": [
    "# Definição das variáveis X e Y, X distância é a variável independente e Y velocidade é a variável dependente.\n",
    "\n",
    "X = base.iloc[:, 1].values\n",
    "y = base.iloc[:, 0].values\n",
    "X"
   ]
  },
  {
   "cell_type": "code",
   "execution_count": 9,
   "id": "5c69bb2e-bce6-4d55-b04f-3d8deae2062d",
   "metadata": {},
   "outputs": [
    {
     "data": {
      "text/plain": [
       "array([[1.       , 0.8068949],\n",
       "       [0.8068949, 1.       ]])"
      ]
     },
     "execution_count": 9,
     "metadata": {},
     "output_type": "execute_result"
    }
   ],
   "source": [
    "# Cáçculo da correlação entre X e Y\n",
    "\n",
    "correlacao = np.corrcoef(X, y)\n",
    "correlacao"
   ]
  },
  {
   "cell_type": "code",
   "execution_count": 10,
   "id": "49b96d15-290b-4ea6-810a-32121ef01c3f",
   "metadata": {},
   "outputs": [
    {
     "data": {
      "text/plain": [
       "LinearRegression()"
      ]
     },
     "execution_count": 10,
     "metadata": {},
     "output_type": "execute_result"
    }
   ],
   "source": [
    "# Formato da matriz com uma coluna a mais.\n",
    "\n",
    "X = X.reshape(-1, 1)\n",
    "\n",
    "# Criação do modelo e treinamento (fit indica que o treinamento deve ser executado)\n",
    "\n",
    "modelo = LinearRegression()\n",
    "modelo.fit(X, y)"
   ]
  },
  {
   "cell_type": "code",
   "execution_count": 11,
   "id": "9d439839-fff0-4d75-8ff3-3408ba354e86",
   "metadata": {},
   "outputs": [
    {
     "data": {
      "text/plain": [
       "8.283905641787172"
      ]
     },
     "execution_count": 11,
     "metadata": {},
     "output_type": "execute_result"
    }
   ],
   "source": [
    "# Visualização dos coeficientes.\n",
    "\n",
    "modelo.intercept_"
   ]
  },
  {
   "cell_type": "code",
   "execution_count": 12,
   "id": "3bb5fedb-503d-4144-bfe4-8fb7dfaf6c47",
   "metadata": {},
   "outputs": [
    {
     "data": {
      "text/plain": [
       "array([0.16556757])"
      ]
     },
     "execution_count": 12,
     "metadata": {},
     "output_type": "execute_result"
    }
   ],
   "source": [
    "# Inclinação\n",
    "\n",
    "modelo.coef_"
   ]
  },
  {
   "cell_type": "code",
   "execution_count": 14,
   "id": "f6670b8b-8a19-4072-b135-8ffd9359417a",
   "metadata": {},
   "outputs": [
    {
     "data": {
      "text/plain": [
       "[<matplotlib.lines.Line2D at 0x1993c652cd0>]"
      ]
     },
     "execution_count": 14,
     "metadata": {},
     "output_type": "execute_result"
    },
    {
     "data": {
      "image/png": "[encoded data removed]",
      "text/plain": [
       "<Figure size 432x288 with 1 Axes>"
      ]
     },
     "metadata": {
      "needs_background": "light"
     },
     "output_type": "display_data"
    }
   ],
   "source": [
    "# Geração do gráfico com os pontos reais e as previsões.\n",
    "\n",
    "plt.scatter(X, y)\n",
    "plt.plot(X, modelo.predict(X), color = 'red')"
   ]
  },
  {
   "cell_type": "code",
   "execution_count": 15,
   "id": "5ae548b5-a44b-4b45-9cb2-7ccb356041f2",
   "metadata": {},
   "outputs": [
    {
     "data": {
      "text/plain": [
       "array([11.92639228])"
      ]
     },
     "execution_count": 15,
     "metadata": {},
     "output_type": "execute_result"
    }
   ],
   "source": [
    "# Previsão da \"distância 22 pés\" usando fórmula manual.\n",
    "\n",
    "# Intercectação * Inclinação * Valor de dist\n",
    "\n",
    "# QUal velocidade se levou 22 pés para parar?\n",
    "\n",
    "modelo.intercept_ + modelo.coef_ * 22"
   ]
  },
  {
   "cell_type": "code",
   "execution_count": 16,
   "id": "2f4c5f58-db4b-4472-84d0-ccfa5ece84a6",
   "metadata": {},
   "outputs": [
    {
     "data": {
      "text/plain": [
       "array([11.92639228])"
      ]
     },
     "execution_count": 16,
     "metadata": {},
     "output_type": "execute_result"
    }
   ],
   "source": [
    "# Previsão utilizando função do sklearn.\n",
    "\n",
    "modelo.predict([[22]])"
   ]
  },
  {
   "cell_type": "code",
   "execution_count": 19,
   "id": "eb0fdcec-3355-4601-9b48-d0593702e323",
   "metadata": {},
   "outputs": [
    {
     "data": {
      "image/png": "[encoded data removed]",
      "text/plain": [
       "<Figure size 576x396 with 2 Axes>"
      ]
     },
     "metadata": {},
     "output_type": "display_data"
    },
    {
     "data": {
      "text/plain": [
       "<AxesSubplot:title={'center':'Residuals for LinearRegression Model'}, xlabel='Predicted Value', ylabel='Residuals'>"
      ]
     },
     "execution_count": 19,
     "metadata": {},
     "output_type": "execute_result"
    }
   ],
   "source": [
    "# Grafico para visualizar os residuais.\n",
    "\n",
    "visualizador = ResidualsPlot(modelo)\n",
    "visualizador.fit(X, y)\n",
    "visualizador.poof()"
   ]
  },
  {
   "cell_type": "code",
   "execution_count": null,
   "id": "e70b3151-59c6-4acd-a623-eb6160ed9f1d",
   "metadata": {},
   "outputs": [],
   "source": []
  }
 ],
 "metadata": {
  "kernelspec": {
   "display_name": "Python 3",
   "language": "python",
   "name": "python3"
  },
  "language_info": {
   "codemirror_mode": {
    "name": "ipython",
    "version": 3
   },
   "file_extension": ".py",
   "mimetype": "text/x-python",
   "name": "python",
   "nbconvert_exporter": "python",
   "pygments_lexer": "ipython3",
   "version": "3.8.8"
  }
 },
 "nbformat": 4,
 "nbformat_minor": 5
}
