{
 "cells": [
  {
   "cell_type": "code",
   "execution_count": 1,
   "id": "84ca0ffe-d99b-44e1-9a71-f4a1b9135085",
   "metadata": {},
   "outputs": [],
   "source": [
    "# Faça você mesmo!\n",
    "\n",
    "# 1 - Franquias:\n",
    "\n",
    "#     1 - FranAnual: Taxa Anual\n",
    "#     2 - Cuslnic: Investimento Inicial\n",
    "\n",
    "# 2 - Criar um modelo de regressão linear para prever qual será o investimento inicial necessário\n",
    "# de uma franquia a partir da Taxa Anual cobrado pelo franqueador.\n"
   ]
  },
  {
   "cell_type": "code",
   "execution_count": 22,
   "id": "03184688-0ea3-4e8c-96d8-569f4c0952b5",
   "metadata": {},
   "outputs": [],
   "source": [
    "# Importando as bibliotecas:\n",
    "\n",
    "import pandas as pd\n",
    "import numpy as np\n",
    "import matplotlib.pyplot as plt\n",
    "from sklearn.linear_model import LinearRegression\n",
    "from yellowbrick.regressor import ResidualsPlot\n"
   ]
  },
  {
   "cell_type": "code",
   "execution_count": 26,
   "id": "933ab5ff-fa74-46ca-a5f7-a2f92d047437",
   "metadata": {},
   "outputs": [
    {
     "data": {
      "text/plain": [
       "(36, 2)"
      ]
     },
     "execution_count": 26,
     "metadata": {},
     "output_type": "execute_result"
    }
   ],
   "source": [
    "# Importando a base de dados:\n",
    "\n",
    "dados = pd.read_csv('slr12.csv', sep=';')\n",
    "dados.shape"
   ]
  },
  {
   "cell_type": "code",
   "execution_count": 27,
   "id": "dcf9abfb-f74d-403e-adca-cf1802e1e095",
   "metadata": {},
   "outputs": [
    {
     "data": {
      "text/html": [
       "<div>\n",
       "<style scoped>\n",
       "    .dataframe tbody tr th:only-of-type {\n",
       "        vertical-align: middle;\n",
       "    }\n",
       "\n",
       "    .dataframe tbody tr th {\n",
       "        vertical-align: top;\n",
       "    }\n",
       "\n",
       "    .dataframe thead th {\n",
       "        text-align: right;\n",
       "    }\n",
       "</style>\n",
       "<table border=\"1\" class=\"dataframe\">\n",
       "  <thead>\n",
       "    <tr style=\"text-align: right;\">\n",
       "      <th></th>\n",
       "      <th>FrqAnual</th>\n",
       "      <th>CusInic</th>\n",
       "    </tr>\n",
       "  </thead>\n",
       "  <tbody>\n",
       "    <tr>\n",
       "      <th>0</th>\n",
       "      <td>1000</td>\n",
       "      <td>1050</td>\n",
       "    </tr>\n",
       "    <tr>\n",
       "      <th>1</th>\n",
       "      <td>1125</td>\n",
       "      <td>1150</td>\n",
       "    </tr>\n",
       "    <tr>\n",
       "      <th>2</th>\n",
       "      <td>1087</td>\n",
       "      <td>1213</td>\n",
       "    </tr>\n",
       "    <tr>\n",
       "      <th>3</th>\n",
       "      <td>1070</td>\n",
       "      <td>1275</td>\n",
       "    </tr>\n",
       "    <tr>\n",
       "      <th>4</th>\n",
       "      <td>1100</td>\n",
       "      <td>1300</td>\n",
       "    </tr>\n",
       "  </tbody>\n",
       "</table>\n",
       "</div>"
      ],
      "text/plain": [
       "   FrqAnual  CusInic\n",
       "0      1000     1050\n",
       "1      1125     1150\n",
       "2      1087     1213\n",
       "3      1070     1275\n",
       "4      1100     1300"
      ]
     },
     "execution_count": 27,
     "metadata": {},
     "output_type": "execute_result"
    }
   ],
   "source": [
    "dados.head()"
   ]
  },
  {
   "cell_type": "code",
   "execution_count": 29,
   "id": "9d1831d3-c53a-4b68-ba1d-049b30ee042c",
   "metadata": {},
   "outputs": [
    {
     "data": {
      "text/plain": [
       "array([[1.        , 0.47700725],\n",
       "       [0.47700725, 1.        ]])"
      ]
     },
     "execution_count": 29,
     "metadata": {},
     "output_type": "execute_result"
    }
   ],
   "source": [
    "# Definição das variáveis X e Y, X FrqAnual é a variável independente e Y CusInic é a variável dependente.\n",
    "\n",
    "# Calculo da correlação entre X e Y:\n",
    "\n",
    "X = dados.iloc[:, 0].values\n",
    "y = dados.iloc[:, 1].values\n",
    "correlacao = np.corrcoef(X, y)\n",
    "correlacao"
   ]
  },
  {
   "cell_type": "code",
   "execution_count": 30,
   "id": "db53b676-fcf6-4cad-9c22-16f3988309df",
   "metadata": {},
   "outputs": [
    {
     "data": {
      "text/plain": [
       "LinearRegression()"
      ]
     },
     "execution_count": 30,
     "metadata": {},
     "output_type": "execute_result"
    }
   ],
   "source": [
    "# Formato da matriz com uma coluna a mais.\n",
    "\n",
    "X = X.reshape(-1, 1)\n",
    "\n",
    "# Criação do modelo e treinamento (fit indica que o treinamento deve ser executado)\n",
    "\n",
    "modelo = LinearRegression()\n",
    "modelo.fit(X, y)"
   ]
  },
  {
   "cell_type": "code",
   "execution_count": 31,
   "id": "6b5c8434-2bb3-43ec-a6b0-90dea0615751",
   "metadata": {},
   "outputs": [
    {
     "data": {
      "text/plain": [
       "[<matplotlib.lines.Line2D at 0x1afeea28f40>]"
      ]
     },
     "execution_count": 31,
     "metadata": {},
     "output_type": "execute_result"
    },
    {
     "data": {
      "image/png": "[encoded data removed]",
      "text/plain": [
       "<Figure size 576x396 with 1 Axes>"
      ]
     },
     "metadata": {},
     "output_type": "display_data"
    }
   ],
   "source": [
    "# Geração do gráfico com os pontos reais e as previsões.\n",
    "\n",
    "plt.scatter(X, y)\n",
    "plt.plot(X, modelo.predict(X), color = 'red')"
   ]
  },
  {
   "cell_type": "code",
   "execution_count": 33,
   "id": "60ba313a-0a76-42ed-9f2c-5b9035477cc6",
   "metadata": {},
   "outputs": [
    {
     "data": {
      "text/plain": [
       "array([1352.70953897])"
      ]
     },
     "execution_count": 33,
     "metadata": {},
     "output_type": "execute_result"
    }
   ],
   "source": [
    "# Valor anual da franquia:\n",
    "\n",
    "valor = 1300\n",
    "modelo.predict([[valor]])"
   ]
  },
  {
   "cell_type": "code",
   "execution_count": null,
   "id": "b3439abb-0a09-4ef9-a951-50b44db81c1a",
   "metadata": {},
   "outputs": [],
   "source": []
  }
 ],
 "metadata": {
  "kernelspec": {
   "display_name": "Python 3",
   "language": "python",
   "name": "python3"
  },
  "language_info": {
   "codemirror_mode": {
    "name": "ipython",
    "version": 3
   },
   "file_extension": ".py",
   "mimetype": "text/x-python",
   "name": "python",
   "nbconvert_exporter": "python",
   "pygments_lexer": "ipython3",
   "version": "3.8.8"
  }
 },
 "nbformat": 4,
 "nbformat_minor": 5
}
